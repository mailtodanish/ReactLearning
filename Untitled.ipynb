{
 "cells": [
  {
   "cell_type": "code",
   "execution_count": 11,
   "metadata": {},
   "outputs": [
    {
     "name": "stdout",
     "output_type": "stream",
     "text": [
      "Enter your name Danish\n",
      "enter your age23\n",
      "youn can't watch this movie\n"
     ]
    }
   ],
   "source": [
    "name = input(\"Enter your name \").lower()\n",
    "age = int(input(\"enter your age\"))\n",
    "if age >=10 and name.startswith('a'):\n",
    "    print(f\"Bcoz your age is {age} and your name starts with {name[0]} you can watch this\")\n",
    "else:\n",
    "    print(\"youn can't watch this movie\")"
   ]
  },
  {
   "cell_type": "code",
   "execution_count": 10,
   "metadata": {},
   "outputs": [
    {
     "ename": "SyntaxError",
     "evalue": "unexpected EOF while parsing (<ipython-input-10-ba94e93c97db>, line 2)",
     "output_type": "error",
     "traceback": [
      "\u001b[1;36m  File \u001b[1;32m\"<ipython-input-10-ba94e93c97db>\"\u001b[1;36m, line \u001b[1;32m2\u001b[0m\n\u001b[1;33m    age = int(input(\"enter your age\")\u001b[0m\n\u001b[1;37m                                     ^\u001b[0m\n\u001b[1;31mSyntaxError\u001b[0m\u001b[1;31m:\u001b[0m unexpected EOF while parsing\n"
     ]
    }
   ],
   "source": [
    "name = input(\"Enter your name \").lower()\n",
    "age = int(input(\"enter your age\")"
   ]
  },
  {
   "cell_type": "code",
   "execution_count": 12,
   "metadata": {},
   "outputs": [],
   "source": [
    "import sys\n",
    "sys.setrecursionlimit(10**6)\n",
    "def dfs(d,visited,i,arr):\n",
    "        visited[i-1]=True\n",
    "        print(i)\n",
    "        for j in d[i]:\n",
    "            if(not visited[j-1]):\n",
    "                x=dfs(d,visited,j,arr)\n",
    "                arr[i-1]+=x\n",
    "        return arr[i-1]"
   ]
  },
  {
   "cell_type": "code",
   "execution_count": null,
   "metadata": {},
   "outputs": [],
   "source": []
  }
 ],
 "metadata": {
  "kernelspec": {
   "display_name": "Python 3",
   "language": "python",
   "name": "python3"
  },
  "language_info": {
   "codemirror_mode": {
    "name": "ipython",
    "version": 3
   },
   "file_extension": ".py",
   "mimetype": "text/x-python",
   "name": "python",
   "nbconvert_exporter": "python",
   "pygments_lexer": "ipython3",
   "version": "3.8.5"
  }
 },
 "nbformat": 4,
 "nbformat_minor": 4
}
